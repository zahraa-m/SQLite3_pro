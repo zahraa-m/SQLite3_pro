{
  "nbformat": 4,
  "nbformat_minor": 0,
  "metadata": {
    "colab": {
      "name": "Copy of Copy of SQLite3_pro.ipynb",
      "provenance": [],
      "collapsed_sections": [
        "OlUn3D_oVD2T",
        "ScP0gCCdZfvT",
        "kSL_-jD-z5kU",
        "n9Ui2ug2y25h",
        "QQgnVI4n1Tlo",
        "W9722tYd3Y-l",
        "YtzrWqyz3fWg",
        "6wOoNmeb3g4a",
        "JUb3M7PT4jgE"
      ],
      "authorship_tag": "ABX9TyO38vJJw9T+qzeeRuzOgRjn",
      "include_colab_link": true
    },
    "kernelspec": {
      "name": "python3",
      "display_name": "Python 3"
    },
    "language_info": {
      "name": "python"
    }
  },
  "cells": [
    {
      "cell_type": "markdown",
      "metadata": {
        "id": "view-in-github",
        "colab_type": "text"
      },
      "source": [
        "<a href=\"https://colab.research.google.com/github/zahraa-m/SQLite3_pro/blob/main/SQLite3_pro.ipynb\" target=\"_parent\"><img src=\"https://colab.research.google.com/assets/colab-badge.svg\" alt=\"Open In Colab\"/></a>"
      ]
    },
    {
      "cell_type": "markdown",
      "source": [
        "#**Introduction**\n",
        "\n",
        "---\n",
        "\n",
        "The goal of the project is to produce a database of heart disease data collected from four different regions using Python SQLite3."
      ],
      "metadata": {
        "id": "vXA-NyeGyapI"
      }
    },
    {
      "cell_type": "markdown",
      "source": [
        "#**Assessment guidance**\n",
        "\n",
        "---\n",
        "\n",
        "1. Can you read the four csv files (and create data frames) in Python? Can you explore the data using skills gained during the group project?\n",
        "2. How do you set up a database in Python? Can you write the data to an SQLite table? Think about how to import the SQLite module in Python.\n",
        "3. Can you create a database (of more than one table)? "
      ],
      "metadata": {
        "id": "H7HtwSGAzHNl"
      }
    },
    {
      "cell_type": "markdown",
      "source": [
        "### 1. Import `pandas` and read the data hosted in GitHub."
      ],
      "metadata": {
        "id": "OlUn3D_oVD2T"
      }
    },
    {
      "cell_type": "code",
      "source": [
        "import pandas as pd\n",
        "california_df= pd.read_csv('https://raw.githubusercontent.com/zahraa-m/Hello-World/master/Data/california.heart.csv')\n",
        "cleveland_df= pd.read_csv('https://raw.githubusercontent.com/zahraa-m/Hello-World/master/Data/cleveland.heart.csv')\n",
        "hungary_df= pd.read_csv('https://raw.githubusercontent.com/zahraa-m/Hello-World/master/Data/hungary.heart.csv')\n",
        "switzerland_df= pd.read_csv('https://raw.githubusercontent.com/zahraa-m/Hello-World/master/Data/switzerland.heart.csv')"
      ],
      "metadata": {
        "id": "3QOQVAaQVodn"
      },
      "execution_count": null,
      "outputs": []
    },
    {
      "cell_type": "markdown",
      "source": [
        "### 2. Explore the data: calcultate summary statistics, count missing values and find data types."
      ],
      "metadata": {
        "id": "ScP0gCCdZfvT"
      }
    },
    {
      "cell_type": "markdown",
      "source": [
        "#### **Performing Summary Statistics**"
      ],
      "metadata": {
        "id": "kSL_-jD-z5kU"
      }
    },
    {
      "cell_type": "markdown",
      "source": [
        "##### 1. California dataset\n",
        "\n"
      ],
      "metadata": {
        "id": "n9Ui2ug2y25h"
      }
    },
    {
      "cell_type": "code",
      "source": [
        "california_df.describe()"
      ],
      "metadata": {
        "id": "FX84Oev4tFEa",
        "outputId": "8627f5c5-b1f1-4606-9545-a8a9ecf90230",
        "colab": {
          "base_uri": "https://localhost:8080/"
        }
      },
      "execution_count": null,
      "outputs": [
        {
          "output_type": "execute_result",
          "data": {
            "text/html": [
              "\n",
              "  <div id=\"df-0795b70d-99aa-42ad-8ccf-75523f83ac87\">\n",
              "    <div class=\"colab-df-container\">\n",
              "      <div>\n",
              "<style scoped>\n",
              "    .dataframe tbody tr th:only-of-type {\n",
              "        vertical-align: middle;\n",
              "    }\n",
              "\n",
              "    .dataframe tbody tr th {\n",
              "        vertical-align: top;\n",
              "    }\n",
              "\n",
              "    .dataframe thead th {\n",
              "        text-align: right;\n",
              "    }\n",
              "</style>\n",
              "<table border=\"1\" class=\"dataframe\">\n",
              "  <thead>\n",
              "    <tr style=\"text-align: right;\">\n",
              "      <th></th>\n",
              "      <th>age</th>\n",
              "      <th>sex</th>\n",
              "      <th>cp</th>\n",
              "      <th>trestbps</th>\n",
              "      <th>chol</th>\n",
              "      <th>fbs</th>\n",
              "      <th>restecg</th>\n",
              "      <th>thalach</th>\n",
              "      <th>exang</th>\n",
              "      <th>oldpeak</th>\n",
              "      <th>slope</th>\n",
              "      <th>ca</th>\n",
              "      <th>thal</th>\n",
              "      <th>num</th>\n",
              "    </tr>\n",
              "  </thead>\n",
              "  <tbody>\n",
              "    <tr>\n",
              "      <th>count</th>\n",
              "      <td>200.000000</td>\n",
              "      <td>200.000000</td>\n",
              "      <td>200.000000</td>\n",
              "      <td>144.000000</td>\n",
              "      <td>193.000000</td>\n",
              "      <td>193.000000</td>\n",
              "      <td>200.000000</td>\n",
              "      <td>147.000000</td>\n",
              "      <td>147.000000</td>\n",
              "      <td>144.000000</td>\n",
              "      <td>98.000000</td>\n",
              "      <td>2.0</td>\n",
              "      <td>34.000000</td>\n",
              "      <td>200.000000</td>\n",
              "    </tr>\n",
              "    <tr>\n",
              "      <th>mean</th>\n",
              "      <td>59.350000</td>\n",
              "      <td>0.970000</td>\n",
              "      <td>3.505000</td>\n",
              "      <td>133.763889</td>\n",
              "      <td>178.746114</td>\n",
              "      <td>0.352332</td>\n",
              "      <td>0.735000</td>\n",
              "      <td>122.795918</td>\n",
              "      <td>0.646259</td>\n",
              "      <td>1.320833</td>\n",
              "      <td>2.132653</td>\n",
              "      <td>0.0</td>\n",
              "      <td>6.294118</td>\n",
              "      <td>1.520000</td>\n",
              "    </tr>\n",
              "    <tr>\n",
              "      <th>std</th>\n",
              "      <td>7.811697</td>\n",
              "      <td>0.171015</td>\n",
              "      <td>0.795701</td>\n",
              "      <td>21.537733</td>\n",
              "      <td>114.035232</td>\n",
              "      <td>0.478939</td>\n",
              "      <td>0.683455</td>\n",
              "      <td>21.990328</td>\n",
              "      <td>0.479765</td>\n",
              "      <td>1.106236</td>\n",
              "      <td>0.667937</td>\n",
              "      <td>0.0</td>\n",
              "      <td>1.291685</td>\n",
              "      <td>1.219441</td>\n",
              "    </tr>\n",
              "    <tr>\n",
              "      <th>min</th>\n",
              "      <td>35.000000</td>\n",
              "      <td>0.000000</td>\n",
              "      <td>1.000000</td>\n",
              "      <td>0.000000</td>\n",
              "      <td>0.000000</td>\n",
              "      <td>0.000000</td>\n",
              "      <td>0.000000</td>\n",
              "      <td>69.000000</td>\n",
              "      <td>0.000000</td>\n",
              "      <td>-0.500000</td>\n",
              "      <td>1.000000</td>\n",
              "      <td>0.0</td>\n",
              "      <td>3.000000</td>\n",
              "      <td>0.000000</td>\n",
              "    </tr>\n",
              "    <tr>\n",
              "      <th>25%</th>\n",
              "      <td>55.000000</td>\n",
              "      <td>1.000000</td>\n",
              "      <td>3.000000</td>\n",
              "      <td>120.000000</td>\n",
              "      <td>0.000000</td>\n",
              "      <td>0.000000</td>\n",
              "      <td>0.000000</td>\n",
              "      <td>109.000000</td>\n",
              "      <td>0.000000</td>\n",
              "      <td>0.000000</td>\n",
              "      <td>2.000000</td>\n",
              "      <td>0.0</td>\n",
              "      <td>6.000000</td>\n",
              "      <td>0.000000</td>\n",
              "    </tr>\n",
              "    <tr>\n",
              "      <th>50%</th>\n",
              "      <td>60.000000</td>\n",
              "      <td>1.000000</td>\n",
              "      <td>4.000000</td>\n",
              "      <td>130.000000</td>\n",
              "      <td>216.000000</td>\n",
              "      <td>0.000000</td>\n",
              "      <td>1.000000</td>\n",
              "      <td>120.000000</td>\n",
              "      <td>1.000000</td>\n",
              "      <td>1.500000</td>\n",
              "      <td>2.000000</td>\n",
              "      <td>0.0</td>\n",
              "      <td>7.000000</td>\n",
              "      <td>1.000000</td>\n",
              "    </tr>\n",
              "    <tr>\n",
              "      <th>75%</th>\n",
              "      <td>64.000000</td>\n",
              "      <td>1.000000</td>\n",
              "      <td>4.000000</td>\n",
              "      <td>147.000000</td>\n",
              "      <td>258.000000</td>\n",
              "      <td>1.000000</td>\n",
              "      <td>1.000000</td>\n",
              "      <td>140.000000</td>\n",
              "      <td>1.000000</td>\n",
              "      <td>2.000000</td>\n",
              "      <td>3.000000</td>\n",
              "      <td>0.0</td>\n",
              "      <td>7.000000</td>\n",
              "      <td>3.000000</td>\n",
              "    </tr>\n",
              "    <tr>\n",
              "      <th>max</th>\n",
              "      <td>77.000000</td>\n",
              "      <td>1.000000</td>\n",
              "      <td>4.000000</td>\n",
              "      <td>190.000000</td>\n",
              "      <td>458.000000</td>\n",
              "      <td>1.000000</td>\n",
              "      <td>2.000000</td>\n",
              "      <td>180.000000</td>\n",
              "      <td>1.000000</td>\n",
              "      <td>4.000000</td>\n",
              "      <td>3.000000</td>\n",
              "      <td>0.0</td>\n",
              "      <td>7.000000</td>\n",
              "      <td>4.000000</td>\n",
              "    </tr>\n",
              "  </tbody>\n",
              "</table>\n",
              "</div>\n",
              "      <button class=\"colab-df-convert\" onclick=\"convertToInteractive('df-0795b70d-99aa-42ad-8ccf-75523f83ac87')\"\n",
              "              title=\"Convert this dataframe to an interactive table.\"\n",
              "              style=\"display:none;\">\n",
              "        \n",
              "  <svg xmlns=\"http://www.w3.org/2000/svg\" height=\"24px\"viewBox=\"0 0 24 24\"\n",
              "       width=\"24px\">\n",
              "    <path d=\"M0 0h24v24H0V0z\" fill=\"none\"/>\n",
              "    <path d=\"M18.56 5.44l.94 2.06.94-2.06 2.06-.94-2.06-.94-.94-2.06-.94 2.06-2.06.94zm-11 1L8.5 8.5l.94-2.06 2.06-.94-2.06-.94L8.5 2.5l-.94 2.06-2.06.94zm10 10l.94 2.06.94-2.06 2.06-.94-2.06-.94-.94-2.06-.94 2.06-2.06.94z\"/><path d=\"M17.41 7.96l-1.37-1.37c-.4-.4-.92-.59-1.43-.59-.52 0-1.04.2-1.43.59L10.3 9.45l-7.72 7.72c-.78.78-.78 2.05 0 2.83L4 21.41c.39.39.9.59 1.41.59.51 0 1.02-.2 1.41-.59l7.78-7.78 2.81-2.81c.8-.78.8-2.07 0-2.86zM5.41 20L4 18.59l7.72-7.72 1.47 1.35L5.41 20z\"/>\n",
              "  </svg>\n",
              "      </button>\n",
              "      \n",
              "  <style>\n",
              "    .colab-df-container {\n",
              "      display:flex;\n",
              "      flex-wrap:wrap;\n",
              "      gap: 12px;\n",
              "    }\n",
              "\n",
              "    .colab-df-convert {\n",
              "      background-color: #E8F0FE;\n",
              "      border: none;\n",
              "      border-radius: 50%;\n",
              "      cursor: pointer;\n",
              "      display: none;\n",
              "      fill: #1967D2;\n",
              "      height: 32px;\n",
              "      padding: 0 0 0 0;\n",
              "      width: 32px;\n",
              "    }\n",
              "\n",
              "    .colab-df-convert:hover {\n",
              "      background-color: #E2EBFA;\n",
              "      box-shadow: 0px 1px 2px rgba(60, 64, 67, 0.3), 0px 1px 3px 1px rgba(60, 64, 67, 0.15);\n",
              "      fill: #174EA6;\n",
              "    }\n",
              "\n",
              "    [theme=dark] .colab-df-convert {\n",
              "      background-color: #3B4455;\n",
              "      fill: #D2E3FC;\n",
              "    }\n",
              "\n",
              "    [theme=dark] .colab-df-convert:hover {\n",
              "      background-color: #434B5C;\n",
              "      box-shadow: 0px 1px 3px 1px rgba(0, 0, 0, 0.15);\n",
              "      filter: drop-shadow(0px 1px 2px rgba(0, 0, 0, 0.3));\n",
              "      fill: #FFFFFF;\n",
              "    }\n",
              "  </style>\n",
              "\n",
              "      <script>\n",
              "        const buttonEl =\n",
              "          document.querySelector('#df-0795b70d-99aa-42ad-8ccf-75523f83ac87 button.colab-df-convert');\n",
              "        buttonEl.style.display =\n",
              "          google.colab.kernel.accessAllowed ? 'block' : 'none';\n",
              "\n",
              "        async function convertToInteractive(key) {\n",
              "          const element = document.querySelector('#df-0795b70d-99aa-42ad-8ccf-75523f83ac87');\n",
              "          const dataTable =\n",
              "            await google.colab.kernel.invokeFunction('convertToInteractive',\n",
              "                                                     [key], {});\n",
              "          if (!dataTable) return;\n",
              "\n",
              "          const docLinkHtml = 'Like what you see? Visit the ' +\n",
              "            '<a target=\"_blank\" href=https://colab.research.google.com/notebooks/data_table.ipynb>data table notebook</a>'\n",
              "            + ' to learn more about interactive tables.';\n",
              "          element.innerHTML = '';\n",
              "          dataTable['output_type'] = 'display_data';\n",
              "          await google.colab.output.renderOutput(dataTable, element);\n",
              "          const docLink = document.createElement('div');\n",
              "          docLink.innerHTML = docLinkHtml;\n",
              "          element.appendChild(docLink);\n",
              "        }\n",
              "      </script>\n",
              "    </div>\n",
              "  </div>\n",
              "  "
            ],
            "text/plain": [
              "              age         sex          cp  ...   ca       thal         num\n",
              "count  200.000000  200.000000  200.000000  ...  2.0  34.000000  200.000000\n",
              "mean    59.350000    0.970000    3.505000  ...  0.0   6.294118    1.520000\n",
              "std      7.811697    0.171015    0.795701  ...  0.0   1.291685    1.219441\n",
              "min     35.000000    0.000000    1.000000  ...  0.0   3.000000    0.000000\n",
              "25%     55.000000    1.000000    3.000000  ...  0.0   6.000000    0.000000\n",
              "50%     60.000000    1.000000    4.000000  ...  0.0   7.000000    1.000000\n",
              "75%     64.000000    1.000000    4.000000  ...  0.0   7.000000    3.000000\n",
              "max     77.000000    1.000000    4.000000  ...  0.0   7.000000    4.000000\n",
              "\n",
              "[8 rows x 14 columns]"
            ]
          },
          "metadata": {},
          "execution_count": 12
        }
      ]
    },
    {
      "cell_type": "markdown",
      "source": [
        "##### 2. Cleveland dataset"
      ],
      "metadata": {
        "id": "pKr-SUyIzbev"
      }
    },
    {
      "cell_type": "code",
      "source": [
        "cleveland_df.describe()"
      ],
      "metadata": {
        "colab": {
          "base_uri": "https://localhost:8080/"
        },
        "id": "4Rr8EDyazg3t",
        "outputId": "ad2f32b9-5d39-44ea-bb39-0c5f121c2752"
      },
      "execution_count": null,
      "outputs": [
        {
          "output_type": "execute_result",
          "data": {
            "text/html": [
              "\n",
              "  <div id=\"df-94fe3652-441d-469d-99ed-b2b4c4b59510\">\n",
              "    <div class=\"colab-df-container\">\n",
              "      <div>\n",
              "<style scoped>\n",
              "    .dataframe tbody tr th:only-of-type {\n",
              "        vertical-align: middle;\n",
              "    }\n",
              "\n",
              "    .dataframe tbody tr th {\n",
              "        vertical-align: top;\n",
              "    }\n",
              "\n",
              "    .dataframe thead th {\n",
              "        text-align: right;\n",
              "    }\n",
              "</style>\n",
              "<table border=\"1\" class=\"dataframe\">\n",
              "  <thead>\n",
              "    <tr style=\"text-align: right;\">\n",
              "      <th></th>\n",
              "      <th>age</th>\n",
              "      <th>sex</th>\n",
              "      <th>cp</th>\n",
              "      <th>trestbps</th>\n",
              "      <th>chol</th>\n",
              "      <th>fbs</th>\n",
              "      <th>restecg</th>\n",
              "      <th>thalach</th>\n",
              "      <th>exang</th>\n",
              "      <th>oldpeak</th>\n",
              "      <th>slope</th>\n",
              "      <th>ca</th>\n",
              "      <th>thal</th>\n",
              "      <th>num</th>\n",
              "    </tr>\n",
              "  </thead>\n",
              "  <tbody>\n",
              "    <tr>\n",
              "      <th>count</th>\n",
              "      <td>303.000000</td>\n",
              "      <td>303.000000</td>\n",
              "      <td>303.000000</td>\n",
              "      <td>303.000000</td>\n",
              "      <td>303.000000</td>\n",
              "      <td>303.000000</td>\n",
              "      <td>303.000000</td>\n",
              "      <td>303.000000</td>\n",
              "      <td>303.000000</td>\n",
              "      <td>303.000000</td>\n",
              "      <td>303.000000</td>\n",
              "      <td>299.000000</td>\n",
              "      <td>301.000000</td>\n",
              "      <td>303.000000</td>\n",
              "    </tr>\n",
              "    <tr>\n",
              "      <th>mean</th>\n",
              "      <td>54.438944</td>\n",
              "      <td>0.679868</td>\n",
              "      <td>3.158416</td>\n",
              "      <td>131.689769</td>\n",
              "      <td>246.693069</td>\n",
              "      <td>0.148515</td>\n",
              "      <td>0.990099</td>\n",
              "      <td>149.607261</td>\n",
              "      <td>0.326733</td>\n",
              "      <td>1.039604</td>\n",
              "      <td>1.600660</td>\n",
              "      <td>0.672241</td>\n",
              "      <td>4.734219</td>\n",
              "      <td>0.937294</td>\n",
              "    </tr>\n",
              "    <tr>\n",
              "      <th>std</th>\n",
              "      <td>9.038662</td>\n",
              "      <td>0.467299</td>\n",
              "      <td>0.960126</td>\n",
              "      <td>17.599748</td>\n",
              "      <td>51.776918</td>\n",
              "      <td>0.356198</td>\n",
              "      <td>0.994971</td>\n",
              "      <td>22.875003</td>\n",
              "      <td>0.469794</td>\n",
              "      <td>1.161075</td>\n",
              "      <td>0.616226</td>\n",
              "      <td>0.937438</td>\n",
              "      <td>1.939706</td>\n",
              "      <td>1.228536</td>\n",
              "    </tr>\n",
              "    <tr>\n",
              "      <th>min</th>\n",
              "      <td>29.000000</td>\n",
              "      <td>0.000000</td>\n",
              "      <td>1.000000</td>\n",
              "      <td>94.000000</td>\n",
              "      <td>126.000000</td>\n",
              "      <td>0.000000</td>\n",
              "      <td>0.000000</td>\n",
              "      <td>71.000000</td>\n",
              "      <td>0.000000</td>\n",
              "      <td>0.000000</td>\n",
              "      <td>1.000000</td>\n",
              "      <td>0.000000</td>\n",
              "      <td>3.000000</td>\n",
              "      <td>0.000000</td>\n",
              "    </tr>\n",
              "    <tr>\n",
              "      <th>25%</th>\n",
              "      <td>48.000000</td>\n",
              "      <td>0.000000</td>\n",
              "      <td>3.000000</td>\n",
              "      <td>120.000000</td>\n",
              "      <td>211.000000</td>\n",
              "      <td>0.000000</td>\n",
              "      <td>0.000000</td>\n",
              "      <td>133.500000</td>\n",
              "      <td>0.000000</td>\n",
              "      <td>0.000000</td>\n",
              "      <td>1.000000</td>\n",
              "      <td>0.000000</td>\n",
              "      <td>3.000000</td>\n",
              "      <td>0.000000</td>\n",
              "    </tr>\n",
              "    <tr>\n",
              "      <th>50%</th>\n",
              "      <td>56.000000</td>\n",
              "      <td>1.000000</td>\n",
              "      <td>3.000000</td>\n",
              "      <td>130.000000</td>\n",
              "      <td>241.000000</td>\n",
              "      <td>0.000000</td>\n",
              "      <td>1.000000</td>\n",
              "      <td>153.000000</td>\n",
              "      <td>0.000000</td>\n",
              "      <td>0.800000</td>\n",
              "      <td>2.000000</td>\n",
              "      <td>0.000000</td>\n",
              "      <td>3.000000</td>\n",
              "      <td>0.000000</td>\n",
              "    </tr>\n",
              "    <tr>\n",
              "      <th>75%</th>\n",
              "      <td>61.000000</td>\n",
              "      <td>1.000000</td>\n",
              "      <td>4.000000</td>\n",
              "      <td>140.000000</td>\n",
              "      <td>275.000000</td>\n",
              "      <td>0.000000</td>\n",
              "      <td>2.000000</td>\n",
              "      <td>166.000000</td>\n",
              "      <td>1.000000</td>\n",
              "      <td>1.600000</td>\n",
              "      <td>2.000000</td>\n",
              "      <td>1.000000</td>\n",
              "      <td>7.000000</td>\n",
              "      <td>2.000000</td>\n",
              "    </tr>\n",
              "    <tr>\n",
              "      <th>max</th>\n",
              "      <td>77.000000</td>\n",
              "      <td>1.000000</td>\n",
              "      <td>4.000000</td>\n",
              "      <td>200.000000</td>\n",
              "      <td>564.000000</td>\n",
              "      <td>1.000000</td>\n",
              "      <td>2.000000</td>\n",
              "      <td>202.000000</td>\n",
              "      <td>1.000000</td>\n",
              "      <td>6.200000</td>\n",
              "      <td>3.000000</td>\n",
              "      <td>3.000000</td>\n",
              "      <td>7.000000</td>\n",
              "      <td>4.000000</td>\n",
              "    </tr>\n",
              "  </tbody>\n",
              "</table>\n",
              "</div>\n",
              "      <button class=\"colab-df-convert\" onclick=\"convertToInteractive('df-94fe3652-441d-469d-99ed-b2b4c4b59510')\"\n",
              "              title=\"Convert this dataframe to an interactive table.\"\n",
              "              style=\"display:none;\">\n",
              "        \n",
              "  <svg xmlns=\"http://www.w3.org/2000/svg\" height=\"24px\"viewBox=\"0 0 24 24\"\n",
              "       width=\"24px\">\n",
              "    <path d=\"M0 0h24v24H0V0z\" fill=\"none\"/>\n",
              "    <path d=\"M18.56 5.44l.94 2.06.94-2.06 2.06-.94-2.06-.94-.94-2.06-.94 2.06-2.06.94zm-11 1L8.5 8.5l.94-2.06 2.06-.94-2.06-.94L8.5 2.5l-.94 2.06-2.06.94zm10 10l.94 2.06.94-2.06 2.06-.94-2.06-.94-.94-2.06-.94 2.06-2.06.94z\"/><path d=\"M17.41 7.96l-1.37-1.37c-.4-.4-.92-.59-1.43-.59-.52 0-1.04.2-1.43.59L10.3 9.45l-7.72 7.72c-.78.78-.78 2.05 0 2.83L4 21.41c.39.39.9.59 1.41.59.51 0 1.02-.2 1.41-.59l7.78-7.78 2.81-2.81c.8-.78.8-2.07 0-2.86zM5.41 20L4 18.59l7.72-7.72 1.47 1.35L5.41 20z\"/>\n",
              "  </svg>\n",
              "      </button>\n",
              "      \n",
              "  <style>\n",
              "    .colab-df-container {\n",
              "      display:flex;\n",
              "      flex-wrap:wrap;\n",
              "      gap: 12px;\n",
              "    }\n",
              "\n",
              "    .colab-df-convert {\n",
              "      background-color: #E8F0FE;\n",
              "      border: none;\n",
              "      border-radius: 50%;\n",
              "      cursor: pointer;\n",
              "      display: none;\n",
              "      fill: #1967D2;\n",
              "      height: 32px;\n",
              "      padding: 0 0 0 0;\n",
              "      width: 32px;\n",
              "    }\n",
              "\n",
              "    .colab-df-convert:hover {\n",
              "      background-color: #E2EBFA;\n",
              "      box-shadow: 0px 1px 2px rgba(60, 64, 67, 0.3), 0px 1px 3px 1px rgba(60, 64, 67, 0.15);\n",
              "      fill: #174EA6;\n",
              "    }\n",
              "\n",
              "    [theme=dark] .colab-df-convert {\n",
              "      background-color: #3B4455;\n",
              "      fill: #D2E3FC;\n",
              "    }\n",
              "\n",
              "    [theme=dark] .colab-df-convert:hover {\n",
              "      background-color: #434B5C;\n",
              "      box-shadow: 0px 1px 3px 1px rgba(0, 0, 0, 0.15);\n",
              "      filter: drop-shadow(0px 1px 2px rgba(0, 0, 0, 0.3));\n",
              "      fill: #FFFFFF;\n",
              "    }\n",
              "  </style>\n",
              "\n",
              "      <script>\n",
              "        const buttonEl =\n",
              "          document.querySelector('#df-94fe3652-441d-469d-99ed-b2b4c4b59510 button.colab-df-convert');\n",
              "        buttonEl.style.display =\n",
              "          google.colab.kernel.accessAllowed ? 'block' : 'none';\n",
              "\n",
              "        async function convertToInteractive(key) {\n",
              "          const element = document.querySelector('#df-94fe3652-441d-469d-99ed-b2b4c4b59510');\n",
              "          const dataTable =\n",
              "            await google.colab.kernel.invokeFunction('convertToInteractive',\n",
              "                                                     [key], {});\n",
              "          if (!dataTable) return;\n",
              "\n",
              "          const docLinkHtml = 'Like what you see? Visit the ' +\n",
              "            '<a target=\"_blank\" href=https://colab.research.google.com/notebooks/data_table.ipynb>data table notebook</a>'\n",
              "            + ' to learn more about interactive tables.';\n",
              "          element.innerHTML = '';\n",
              "          dataTable['output_type'] = 'display_data';\n",
              "          await google.colab.output.renderOutput(dataTable, element);\n",
              "          const docLink = document.createElement('div');\n",
              "          docLink.innerHTML = docLinkHtml;\n",
              "          element.appendChild(docLink);\n",
              "        }\n",
              "      </script>\n",
              "    </div>\n",
              "  </div>\n",
              "  "
            ],
            "text/plain": [
              "              age         sex          cp  ...          ca        thal         num\n",
              "count  303.000000  303.000000  303.000000  ...  299.000000  301.000000  303.000000\n",
              "mean    54.438944    0.679868    3.158416  ...    0.672241    4.734219    0.937294\n",
              "std      9.038662    0.467299    0.960126  ...    0.937438    1.939706    1.228536\n",
              "min     29.000000    0.000000    1.000000  ...    0.000000    3.000000    0.000000\n",
              "25%     48.000000    0.000000    3.000000  ...    0.000000    3.000000    0.000000\n",
              "50%     56.000000    1.000000    3.000000  ...    0.000000    3.000000    0.000000\n",
              "75%     61.000000    1.000000    4.000000  ...    1.000000    7.000000    2.000000\n",
              "max     77.000000    1.000000    4.000000  ...    3.000000    7.000000    4.000000\n",
              "\n",
              "[8 rows x 14 columns]"
            ]
          },
          "metadata": {},
          "execution_count": 13
        }
      ]
    },
    {
      "cell_type": "markdown",
      "source": [
        "##### 3. Hungary dataset"
      ],
      "metadata": {
        "id": "Yhl7igHdwf_W"
      }
    },
    {
      "cell_type": "code",
      "source": [
        "hungary_df.describe()"
      ],
      "metadata": {
        "colab": {
          "base_uri": "https://localhost:8080/"
        },
        "id": "xntj6UiD0xLO",
        "outputId": "b2d17259-4881-4972-b958-226e7e642689"
      },
      "execution_count": null,
      "outputs": [
        {
          "output_type": "execute_result",
          "data": {
            "text/html": [
              "\n",
              "  <div id=\"df-a78a3aa2-65dc-4617-8a4a-f0e91b9db949\">\n",
              "    <div class=\"colab-df-container\">\n",
              "      <div>\n",
              "<style scoped>\n",
              "    .dataframe tbody tr th:only-of-type {\n",
              "        vertical-align: middle;\n",
              "    }\n",
              "\n",
              "    .dataframe tbody tr th {\n",
              "        vertical-align: top;\n",
              "    }\n",
              "\n",
              "    .dataframe thead th {\n",
              "        text-align: right;\n",
              "    }\n",
              "</style>\n",
              "<table border=\"1\" class=\"dataframe\">\n",
              "  <thead>\n",
              "    <tr style=\"text-align: right;\">\n",
              "      <th></th>\n",
              "      <th>age</th>\n",
              "      <th>sex</th>\n",
              "      <th>cp</th>\n",
              "      <th>trestbps</th>\n",
              "      <th>chol</th>\n",
              "      <th>fbs</th>\n",
              "      <th>restecg</th>\n",
              "      <th>thalach</th>\n",
              "      <th>exang</th>\n",
              "      <th>oldpeak</th>\n",
              "      <th>slope</th>\n",
              "      <th>ca</th>\n",
              "      <th>thal</th>\n",
              "      <th>num</th>\n",
              "    </tr>\n",
              "  </thead>\n",
              "  <tbody>\n",
              "    <tr>\n",
              "      <th>count</th>\n",
              "      <td>294.000000</td>\n",
              "      <td>294.000000</td>\n",
              "      <td>294.000000</td>\n",
              "      <td>293.000000</td>\n",
              "      <td>271.000000</td>\n",
              "      <td>286.000000</td>\n",
              "      <td>293.000000</td>\n",
              "      <td>293.000000</td>\n",
              "      <td>293.000000</td>\n",
              "      <td>294.000000</td>\n",
              "      <td>104.000000</td>\n",
              "      <td>3.0</td>\n",
              "      <td>28.000000</td>\n",
              "      <td>294.000000</td>\n",
              "    </tr>\n",
              "    <tr>\n",
              "      <th>mean</th>\n",
              "      <td>47.826531</td>\n",
              "      <td>0.724490</td>\n",
              "      <td>2.982993</td>\n",
              "      <td>132.583618</td>\n",
              "      <td>250.848708</td>\n",
              "      <td>0.069930</td>\n",
              "      <td>0.218430</td>\n",
              "      <td>139.129693</td>\n",
              "      <td>0.303754</td>\n",
              "      <td>0.586054</td>\n",
              "      <td>1.894231</td>\n",
              "      <td>0.0</td>\n",
              "      <td>5.642857</td>\n",
              "      <td>0.360544</td>\n",
              "    </tr>\n",
              "    <tr>\n",
              "      <th>std</th>\n",
              "      <td>7.811812</td>\n",
              "      <td>0.447533</td>\n",
              "      <td>0.965117</td>\n",
              "      <td>17.626568</td>\n",
              "      <td>67.657711</td>\n",
              "      <td>0.255476</td>\n",
              "      <td>0.460868</td>\n",
              "      <td>23.589749</td>\n",
              "      <td>0.460665</td>\n",
              "      <td>0.908648</td>\n",
              "      <td>0.338995</td>\n",
              "      <td>0.0</td>\n",
              "      <td>1.615074</td>\n",
              "      <td>0.480977</td>\n",
              "    </tr>\n",
              "    <tr>\n",
              "      <th>min</th>\n",
              "      <td>28.000000</td>\n",
              "      <td>0.000000</td>\n",
              "      <td>1.000000</td>\n",
              "      <td>92.000000</td>\n",
              "      <td>85.000000</td>\n",
              "      <td>0.000000</td>\n",
              "      <td>0.000000</td>\n",
              "      <td>82.000000</td>\n",
              "      <td>0.000000</td>\n",
              "      <td>0.000000</td>\n",
              "      <td>1.000000</td>\n",
              "      <td>0.0</td>\n",
              "      <td>3.000000</td>\n",
              "      <td>0.000000</td>\n",
              "    </tr>\n",
              "    <tr>\n",
              "      <th>25%</th>\n",
              "      <td>42.000000</td>\n",
              "      <td>0.000000</td>\n",
              "      <td>2.000000</td>\n",
              "      <td>120.000000</td>\n",
              "      <td>209.000000</td>\n",
              "      <td>0.000000</td>\n",
              "      <td>0.000000</td>\n",
              "      <td>122.000000</td>\n",
              "      <td>0.000000</td>\n",
              "      <td>0.000000</td>\n",
              "      <td>2.000000</td>\n",
              "      <td>0.0</td>\n",
              "      <td>5.250000</td>\n",
              "      <td>0.000000</td>\n",
              "    </tr>\n",
              "    <tr>\n",
              "      <th>50%</th>\n",
              "      <td>49.000000</td>\n",
              "      <td>1.000000</td>\n",
              "      <td>3.000000</td>\n",
              "      <td>130.000000</td>\n",
              "      <td>243.000000</td>\n",
              "      <td>0.000000</td>\n",
              "      <td>0.000000</td>\n",
              "      <td>140.000000</td>\n",
              "      <td>0.000000</td>\n",
              "      <td>0.000000</td>\n",
              "      <td>2.000000</td>\n",
              "      <td>0.0</td>\n",
              "      <td>6.000000</td>\n",
              "      <td>0.000000</td>\n",
              "    </tr>\n",
              "    <tr>\n",
              "      <th>75%</th>\n",
              "      <td>54.000000</td>\n",
              "      <td>1.000000</td>\n",
              "      <td>4.000000</td>\n",
              "      <td>140.000000</td>\n",
              "      <td>282.500000</td>\n",
              "      <td>0.000000</td>\n",
              "      <td>0.000000</td>\n",
              "      <td>155.000000</td>\n",
              "      <td>1.000000</td>\n",
              "      <td>1.000000</td>\n",
              "      <td>2.000000</td>\n",
              "      <td>0.0</td>\n",
              "      <td>7.000000</td>\n",
              "      <td>1.000000</td>\n",
              "    </tr>\n",
              "    <tr>\n",
              "      <th>max</th>\n",
              "      <td>66.000000</td>\n",
              "      <td>1.000000</td>\n",
              "      <td>4.000000</td>\n",
              "      <td>200.000000</td>\n",
              "      <td>603.000000</td>\n",
              "      <td>1.000000</td>\n",
              "      <td>2.000000</td>\n",
              "      <td>190.000000</td>\n",
              "      <td>1.000000</td>\n",
              "      <td>5.000000</td>\n",
              "      <td>3.000000</td>\n",
              "      <td>0.0</td>\n",
              "      <td>7.000000</td>\n",
              "      <td>1.000000</td>\n",
              "    </tr>\n",
              "  </tbody>\n",
              "</table>\n",
              "</div>\n",
              "      <button class=\"colab-df-convert\" onclick=\"convertToInteractive('df-a78a3aa2-65dc-4617-8a4a-f0e91b9db949')\"\n",
              "              title=\"Convert this dataframe to an interactive table.\"\n",
              "              style=\"display:none;\">\n",
              "        \n",
              "  <svg xmlns=\"http://www.w3.org/2000/svg\" height=\"24px\"viewBox=\"0 0 24 24\"\n",
              "       width=\"24px\">\n",
              "    <path d=\"M0 0h24v24H0V0z\" fill=\"none\"/>\n",
              "    <path d=\"M18.56 5.44l.94 2.06.94-2.06 2.06-.94-2.06-.94-.94-2.06-.94 2.06-2.06.94zm-11 1L8.5 8.5l.94-2.06 2.06-.94-2.06-.94L8.5 2.5l-.94 2.06-2.06.94zm10 10l.94 2.06.94-2.06 2.06-.94-2.06-.94-.94-2.06-.94 2.06-2.06.94z\"/><path d=\"M17.41 7.96l-1.37-1.37c-.4-.4-.92-.59-1.43-.59-.52 0-1.04.2-1.43.59L10.3 9.45l-7.72 7.72c-.78.78-.78 2.05 0 2.83L4 21.41c.39.39.9.59 1.41.59.51 0 1.02-.2 1.41-.59l7.78-7.78 2.81-2.81c.8-.78.8-2.07 0-2.86zM5.41 20L4 18.59l7.72-7.72 1.47 1.35L5.41 20z\"/>\n",
              "  </svg>\n",
              "      </button>\n",
              "      \n",
              "  <style>\n",
              "    .colab-df-container {\n",
              "      display:flex;\n",
              "      flex-wrap:wrap;\n",
              "      gap: 12px;\n",
              "    }\n",
              "\n",
              "    .colab-df-convert {\n",
              "      background-color: #E8F0FE;\n",
              "      border: none;\n",
              "      border-radius: 50%;\n",
              "      cursor: pointer;\n",
              "      display: none;\n",
              "      fill: #1967D2;\n",
              "      height: 32px;\n",
              "      padding: 0 0 0 0;\n",
              "      width: 32px;\n",
              "    }\n",
              "\n",
              "    .colab-df-convert:hover {\n",
              "      background-color: #E2EBFA;\n",
              "      box-shadow: 0px 1px 2px rgba(60, 64, 67, 0.3), 0px 1px 3px 1px rgba(60, 64, 67, 0.15);\n",
              "      fill: #174EA6;\n",
              "    }\n",
              "\n",
              "    [theme=dark] .colab-df-convert {\n",
              "      background-color: #3B4455;\n",
              "      fill: #D2E3FC;\n",
              "    }\n",
              "\n",
              "    [theme=dark] .colab-df-convert:hover {\n",
              "      background-color: #434B5C;\n",
              "      box-shadow: 0px 1px 3px 1px rgba(0, 0, 0, 0.15);\n",
              "      filter: drop-shadow(0px 1px 2px rgba(0, 0, 0, 0.3));\n",
              "      fill: #FFFFFF;\n",
              "    }\n",
              "  </style>\n",
              "\n",
              "      <script>\n",
              "        const buttonEl =\n",
              "          document.querySelector('#df-a78a3aa2-65dc-4617-8a4a-f0e91b9db949 button.colab-df-convert');\n",
              "        buttonEl.style.display =\n",
              "          google.colab.kernel.accessAllowed ? 'block' : 'none';\n",
              "\n",
              "        async function convertToInteractive(key) {\n",
              "          const element = document.querySelector('#df-a78a3aa2-65dc-4617-8a4a-f0e91b9db949');\n",
              "          const dataTable =\n",
              "            await google.colab.kernel.invokeFunction('convertToInteractive',\n",
              "                                                     [key], {});\n",
              "          if (!dataTable) return;\n",
              "\n",
              "          const docLinkHtml = 'Like what you see? Visit the ' +\n",
              "            '<a target=\"_blank\" href=https://colab.research.google.com/notebooks/data_table.ipynb>data table notebook</a>'\n",
              "            + ' to learn more about interactive tables.';\n",
              "          element.innerHTML = '';\n",
              "          dataTable['output_type'] = 'display_data';\n",
              "          await google.colab.output.renderOutput(dataTable, element);\n",
              "          const docLink = document.createElement('div');\n",
              "          docLink.innerHTML = docLinkHtml;\n",
              "          element.appendChild(docLink);\n",
              "        }\n",
              "      </script>\n",
              "    </div>\n",
              "  </div>\n",
              "  "
            ],
            "text/plain": [
              "              age         sex          cp  ...   ca       thal         num\n",
              "count  294.000000  294.000000  294.000000  ...  3.0  28.000000  294.000000\n",
              "mean    47.826531    0.724490    2.982993  ...  0.0   5.642857    0.360544\n",
              "std      7.811812    0.447533    0.965117  ...  0.0   1.615074    0.480977\n",
              "min     28.000000    0.000000    1.000000  ...  0.0   3.000000    0.000000\n",
              "25%     42.000000    0.000000    2.000000  ...  0.0   5.250000    0.000000\n",
              "50%     49.000000    1.000000    3.000000  ...  0.0   6.000000    0.000000\n",
              "75%     54.000000    1.000000    4.000000  ...  0.0   7.000000    1.000000\n",
              "max     66.000000    1.000000    4.000000  ...  0.0   7.000000    1.000000\n",
              "\n",
              "[8 rows x 14 columns]"
            ]
          },
          "metadata": {},
          "execution_count": 14
        }
      ]
    },
    {
      "cell_type": "markdown",
      "source": [
        "##### 4. Switzerland dataset"
      ],
      "metadata": {
        "id": "f6kpP4Pv0j32"
      }
    },
    {
      "cell_type": "code",
      "source": [
        "switzerland_df.describe()"
      ],
      "metadata": {
        "colab": {
          "base_uri": "https://localhost:8080/"
        },
        "id": "SeW4nqBG2bsB",
        "outputId": "6b63859f-9c80-43b4-90ac-a969593f1307"
      },
      "execution_count": null,
      "outputs": [
        {
          "output_type": "execute_result",
          "data": {
            "text/html": [
              "\n",
              "  <div id=\"df-46af044f-3fa4-48ba-b308-78ab19216f69\">\n",
              "    <div class=\"colab-df-container\">\n",
              "      <div>\n",
              "<style scoped>\n",
              "    .dataframe tbody tr th:only-of-type {\n",
              "        vertical-align: middle;\n",
              "    }\n",
              "\n",
              "    .dataframe tbody tr th {\n",
              "        vertical-align: top;\n",
              "    }\n",
              "\n",
              "    .dataframe thead th {\n",
              "        text-align: right;\n",
              "    }\n",
              "</style>\n",
              "<table border=\"1\" class=\"dataframe\">\n",
              "  <thead>\n",
              "    <tr style=\"text-align: right;\">\n",
              "      <th></th>\n",
              "      <th>age</th>\n",
              "      <th>sex</th>\n",
              "      <th>cp</th>\n",
              "      <th>trestbps</th>\n",
              "      <th>chol</th>\n",
              "      <th>fbs</th>\n",
              "      <th>restecg</th>\n",
              "      <th>thalach</th>\n",
              "      <th>exang</th>\n",
              "      <th>oldpeak</th>\n",
              "      <th>slope</th>\n",
              "      <th>ca</th>\n",
              "      <th>thal</th>\n",
              "      <th>num</th>\n",
              "    </tr>\n",
              "  </thead>\n",
              "  <tbody>\n",
              "    <tr>\n",
              "      <th>count</th>\n",
              "      <td>123.000000</td>\n",
              "      <td>123.000000</td>\n",
              "      <td>123.000000</td>\n",
              "      <td>121.000000</td>\n",
              "      <td>123.0</td>\n",
              "      <td>48.000000</td>\n",
              "      <td>122.000000</td>\n",
              "      <td>122.000000</td>\n",
              "      <td>122.000000</td>\n",
              "      <td>117.000000</td>\n",
              "      <td>106.000000</td>\n",
              "      <td>5.000000</td>\n",
              "      <td>71.000000</td>\n",
              "      <td>123.000000</td>\n",
              "    </tr>\n",
              "    <tr>\n",
              "      <th>mean</th>\n",
              "      <td>55.317073</td>\n",
              "      <td>0.918699</td>\n",
              "      <td>3.699187</td>\n",
              "      <td>130.206612</td>\n",
              "      <td>0.0</td>\n",
              "      <td>0.104167</td>\n",
              "      <td>0.360656</td>\n",
              "      <td>121.557377</td>\n",
              "      <td>0.442623</td>\n",
              "      <td>0.653846</td>\n",
              "      <td>1.801887</td>\n",
              "      <td>1.600000</td>\n",
              "      <td>5.788732</td>\n",
              "      <td>1.804878</td>\n",
              "    </tr>\n",
              "    <tr>\n",
              "      <th>std</th>\n",
              "      <td>9.032108</td>\n",
              "      <td>0.274414</td>\n",
              "      <td>0.688726</td>\n",
              "      <td>22.559151</td>\n",
              "      <td>0.0</td>\n",
              "      <td>0.308709</td>\n",
              "      <td>0.590077</td>\n",
              "      <td>25.977438</td>\n",
              "      <td>0.498745</td>\n",
              "      <td>1.056061</td>\n",
              "      <td>0.623658</td>\n",
              "      <td>0.547723</td>\n",
              "      <td>1.731354</td>\n",
              "      <td>1.013503</td>\n",
              "    </tr>\n",
              "    <tr>\n",
              "      <th>min</th>\n",
              "      <td>32.000000</td>\n",
              "      <td>0.000000</td>\n",
              "      <td>1.000000</td>\n",
              "      <td>80.000000</td>\n",
              "      <td>0.0</td>\n",
              "      <td>0.000000</td>\n",
              "      <td>0.000000</td>\n",
              "      <td>60.000000</td>\n",
              "      <td>0.000000</td>\n",
              "      <td>-2.600000</td>\n",
              "      <td>1.000000</td>\n",
              "      <td>1.000000</td>\n",
              "      <td>3.000000</td>\n",
              "      <td>0.000000</td>\n",
              "    </tr>\n",
              "    <tr>\n",
              "      <th>25%</th>\n",
              "      <td>51.000000</td>\n",
              "      <td>1.000000</td>\n",
              "      <td>4.000000</td>\n",
              "      <td>115.000000</td>\n",
              "      <td>0.0</td>\n",
              "      <td>0.000000</td>\n",
              "      <td>0.000000</td>\n",
              "      <td>104.250000</td>\n",
              "      <td>0.000000</td>\n",
              "      <td>0.000000</td>\n",
              "      <td>1.000000</td>\n",
              "      <td>1.000000</td>\n",
              "      <td>3.000000</td>\n",
              "      <td>1.000000</td>\n",
              "    </tr>\n",
              "    <tr>\n",
              "      <th>50%</th>\n",
              "      <td>56.000000</td>\n",
              "      <td>1.000000</td>\n",
              "      <td>4.000000</td>\n",
              "      <td>125.000000</td>\n",
              "      <td>0.0</td>\n",
              "      <td>0.000000</td>\n",
              "      <td>0.000000</td>\n",
              "      <td>121.000000</td>\n",
              "      <td>0.000000</td>\n",
              "      <td>0.300000</td>\n",
              "      <td>2.000000</td>\n",
              "      <td>2.000000</td>\n",
              "      <td>7.000000</td>\n",
              "      <td>2.000000</td>\n",
              "    </tr>\n",
              "    <tr>\n",
              "      <th>75%</th>\n",
              "      <td>61.500000</td>\n",
              "      <td>1.000000</td>\n",
              "      <td>4.000000</td>\n",
              "      <td>145.000000</td>\n",
              "      <td>0.0</td>\n",
              "      <td>0.000000</td>\n",
              "      <td>1.000000</td>\n",
              "      <td>140.000000</td>\n",
              "      <td>1.000000</td>\n",
              "      <td>1.500000</td>\n",
              "      <td>2.000000</td>\n",
              "      <td>2.000000</td>\n",
              "      <td>7.000000</td>\n",
              "      <td>3.000000</td>\n",
              "    </tr>\n",
              "    <tr>\n",
              "      <th>max</th>\n",
              "      <td>74.000000</td>\n",
              "      <td>1.000000</td>\n",
              "      <td>4.000000</td>\n",
              "      <td>200.000000</td>\n",
              "      <td>0.0</td>\n",
              "      <td>1.000000</td>\n",
              "      <td>2.000000</td>\n",
              "      <td>182.000000</td>\n",
              "      <td>1.000000</td>\n",
              "      <td>3.700000</td>\n",
              "      <td>3.000000</td>\n",
              "      <td>2.000000</td>\n",
              "      <td>7.000000</td>\n",
              "      <td>4.000000</td>\n",
              "    </tr>\n",
              "  </tbody>\n",
              "</table>\n",
              "</div>\n",
              "      <button class=\"colab-df-convert\" onclick=\"convertToInteractive('df-46af044f-3fa4-48ba-b308-78ab19216f69')\"\n",
              "              title=\"Convert this dataframe to an interactive table.\"\n",
              "              style=\"display:none;\">\n",
              "        \n",
              "  <svg xmlns=\"http://www.w3.org/2000/svg\" height=\"24px\"viewBox=\"0 0 24 24\"\n",
              "       width=\"24px\">\n",
              "    <path d=\"M0 0h24v24H0V0z\" fill=\"none\"/>\n",
              "    <path d=\"M18.56 5.44l.94 2.06.94-2.06 2.06-.94-2.06-.94-.94-2.06-.94 2.06-2.06.94zm-11 1L8.5 8.5l.94-2.06 2.06-.94-2.06-.94L8.5 2.5l-.94 2.06-2.06.94zm10 10l.94 2.06.94-2.06 2.06-.94-2.06-.94-.94-2.06-.94 2.06-2.06.94z\"/><path d=\"M17.41 7.96l-1.37-1.37c-.4-.4-.92-.59-1.43-.59-.52 0-1.04.2-1.43.59L10.3 9.45l-7.72 7.72c-.78.78-.78 2.05 0 2.83L4 21.41c.39.39.9.59 1.41.59.51 0 1.02-.2 1.41-.59l7.78-7.78 2.81-2.81c.8-.78.8-2.07 0-2.86zM5.41 20L4 18.59l7.72-7.72 1.47 1.35L5.41 20z\"/>\n",
              "  </svg>\n",
              "      </button>\n",
              "      \n",
              "  <style>\n",
              "    .colab-df-container {\n",
              "      display:flex;\n",
              "      flex-wrap:wrap;\n",
              "      gap: 12px;\n",
              "    }\n",
              "\n",
              "    .colab-df-convert {\n",
              "      background-color: #E8F0FE;\n",
              "      border: none;\n",
              "      border-radius: 50%;\n",
              "      cursor: pointer;\n",
              "      display: none;\n",
              "      fill: #1967D2;\n",
              "      height: 32px;\n",
              "      padding: 0 0 0 0;\n",
              "      width: 32px;\n",
              "    }\n",
              "\n",
              "    .colab-df-convert:hover {\n",
              "      background-color: #E2EBFA;\n",
              "      box-shadow: 0px 1px 2px rgba(60, 64, 67, 0.3), 0px 1px 3px 1px rgba(60, 64, 67, 0.15);\n",
              "      fill: #174EA6;\n",
              "    }\n",
              "\n",
              "    [theme=dark] .colab-df-convert {\n",
              "      background-color: #3B4455;\n",
              "      fill: #D2E3FC;\n",
              "    }\n",
              "\n",
              "    [theme=dark] .colab-df-convert:hover {\n",
              "      background-color: #434B5C;\n",
              "      box-shadow: 0px 1px 3px 1px rgba(0, 0, 0, 0.15);\n",
              "      filter: drop-shadow(0px 1px 2px rgba(0, 0, 0, 0.3));\n",
              "      fill: #FFFFFF;\n",
              "    }\n",
              "  </style>\n",
              "\n",
              "      <script>\n",
              "        const buttonEl =\n",
              "          document.querySelector('#df-46af044f-3fa4-48ba-b308-78ab19216f69 button.colab-df-convert');\n",
              "        buttonEl.style.display =\n",
              "          google.colab.kernel.accessAllowed ? 'block' : 'none';\n",
              "\n",
              "        async function convertToInteractive(key) {\n",
              "          const element = document.querySelector('#df-46af044f-3fa4-48ba-b308-78ab19216f69');\n",
              "          const dataTable =\n",
              "            await google.colab.kernel.invokeFunction('convertToInteractive',\n",
              "                                                     [key], {});\n",
              "          if (!dataTable) return;\n",
              "\n",
              "          const docLinkHtml = 'Like what you see? Visit the ' +\n",
              "            '<a target=\"_blank\" href=https://colab.research.google.com/notebooks/data_table.ipynb>data table notebook</a>'\n",
              "            + ' to learn more about interactive tables.';\n",
              "          element.innerHTML = '';\n",
              "          dataTable['output_type'] = 'display_data';\n",
              "          await google.colab.output.renderOutput(dataTable, element);\n",
              "          const docLink = document.createElement('div');\n",
              "          docLink.innerHTML = docLinkHtml;\n",
              "          element.appendChild(docLink);\n",
              "        }\n",
              "      </script>\n",
              "    </div>\n",
              "  </div>\n",
              "  "
            ],
            "text/plain": [
              "              age         sex          cp  ...        ca       thal         num\n",
              "count  123.000000  123.000000  123.000000  ...  5.000000  71.000000  123.000000\n",
              "mean    55.317073    0.918699    3.699187  ...  1.600000   5.788732    1.804878\n",
              "std      9.032108    0.274414    0.688726  ...  0.547723   1.731354    1.013503\n",
              "min     32.000000    0.000000    1.000000  ...  1.000000   3.000000    0.000000\n",
              "25%     51.000000    1.000000    4.000000  ...  1.000000   3.000000    1.000000\n",
              "50%     56.000000    1.000000    4.000000  ...  2.000000   7.000000    2.000000\n",
              "75%     61.500000    1.000000    4.000000  ...  2.000000   7.000000    3.000000\n",
              "max     74.000000    1.000000    4.000000  ...  2.000000   7.000000    4.000000\n",
              "\n",
              "[8 rows x 14 columns]"
            ]
          },
          "metadata": {},
          "execution_count": 15
        }
      ]
    },
    {
      "cell_type": "markdown",
      "source": [
        "#### **Counting Missing values**"
      ],
      "metadata": {
        "id": "QQgnVI4n1Tlo"
      }
    },
    {
      "cell_type": "markdown",
      "source": [
        "##### 1. California dataset"
      ],
      "metadata": {
        "id": "W9722tYd3Y-l"
      }
    },
    {
      "cell_type": "code",
      "source": [
        "california_df.isna().sum()"
      ],
      "metadata": {
        "colab": {
          "base_uri": "https://localhost:8080/"
        },
        "id": "sL0iomFZ1ghi",
        "outputId": "ab614baf-c68d-44bc-8166-e29751274684"
      },
      "execution_count": null,
      "outputs": [
        {
          "output_type": "execute_result",
          "data": {
            "text/plain": [
              "age           0\n",
              "sex           0\n",
              "cp            0\n",
              "trestbps     56\n",
              "chol          7\n",
              "fbs           7\n",
              "restecg       0\n",
              "thalach      53\n",
              "exang        53\n",
              "oldpeak      56\n",
              "slope       102\n",
              "ca          198\n",
              "thal        166\n",
              "num           0\n",
              "dtype: int64"
            ]
          },
          "metadata": {},
          "execution_count": 16
        }
      ]
    },
    {
      "cell_type": "markdown",
      "source": [
        "##### 2. Cleveland dataset\n"
      ],
      "metadata": {
        "id": "YtzrWqyz3fWg"
      }
    },
    {
      "cell_type": "code",
      "source": [
        "cleveland_df.isna().sum()"
      ],
      "metadata": {
        "colab": {
          "base_uri": "https://localhost:8080/"
        },
        "id": "ZnBN7l5G3w2E",
        "outputId": "e3f844b4-e771-4ac0-9fff-e93e3e939108"
      },
      "execution_count": null,
      "outputs": [
        {
          "output_type": "execute_result",
          "data": {
            "text/plain": [
              "age         0\n",
              "sex         0\n",
              "cp          0\n",
              "trestbps    0\n",
              "chol        0\n",
              "fbs         0\n",
              "restecg     0\n",
              "thalach     0\n",
              "exang       0\n",
              "oldpeak     0\n",
              "slope       0\n",
              "ca          4\n",
              "thal        2\n",
              "num         0\n",
              "dtype: int64"
            ]
          },
          "metadata": {},
          "execution_count": 17
        }
      ]
    },
    {
      "cell_type": "markdown",
      "source": [
        "##### 3. Hungary dataset\n"
      ],
      "metadata": {
        "id": "6wOoNmeb3g4a"
      }
    },
    {
      "cell_type": "code",
      "source": [
        "hungary_df.isna().sum()"
      ],
      "metadata": {
        "colab": {
          "base_uri": "https://localhost:8080/"
        },
        "id": "FcDaRPMQ36v3",
        "outputId": "540941ac-edbe-4ba3-96b9-dd419a7373da"
      },
      "execution_count": null,
      "outputs": [
        {
          "output_type": "execute_result",
          "data": {
            "text/plain": [
              "age           0\n",
              "sex           0\n",
              "cp            0\n",
              "trestbps      1\n",
              "chol         23\n",
              "fbs           8\n",
              "restecg       1\n",
              "thalach       1\n",
              "exang         1\n",
              "oldpeak       0\n",
              "slope       190\n",
              "ca          291\n",
              "thal        266\n",
              "num           0\n",
              "dtype: int64"
            ]
          },
          "metadata": {},
          "execution_count": 18
        }
      ]
    },
    {
      "cell_type": "markdown",
      "source": [
        "##### 4. Switzerland dataset\n"
      ],
      "metadata": {
        "id": "iBBNyI693h-e"
      }
    },
    {
      "cell_type": "code",
      "source": [
        "switzerland_df.isna().sum()"
      ],
      "metadata": {
        "colab": {
          "base_uri": "https://localhost:8080/"
        },
        "id": "YvwSQlTM4Jdb",
        "outputId": "4e96c858-98fa-4a69-9810-89357aa218f1"
      },
      "execution_count": null,
      "outputs": [
        {
          "output_type": "execute_result",
          "data": {
            "text/plain": [
              "age           0\n",
              "sex           0\n",
              "cp            0\n",
              "trestbps      2\n",
              "chol          0\n",
              "fbs          75\n",
              "restecg       1\n",
              "thalach       1\n",
              "exang         1\n",
              "oldpeak       6\n",
              "slope        17\n",
              "ca          118\n",
              "thal         52\n",
              "num           0\n",
              "dtype: int64"
            ]
          },
          "metadata": {},
          "execution_count": 19
        }
      ]
    },
    {
      "cell_type": "markdown",
      "source": [
        "#### **Finding data types**"
      ],
      "metadata": {
        "id": "JUb3M7PT4jgE"
      }
    },
    {
      "cell_type": "markdown",
      "source": [
        "##### 1. California dataset"
      ],
      "metadata": {
        "id": "Fby_aVqi2oSm"
      }
    },
    {
      "cell_type": "code",
      "source": [
        "california_df.dtypes"
      ],
      "metadata": {
        "colab": {
          "base_uri": "https://localhost:8080/"
        },
        "id": "1uvfXYM13dqd",
        "outputId": "02f2930a-e15a-4b22-e8a3-d681baf422fc"
      },
      "execution_count": null,
      "outputs": [
        {
          "output_type": "execute_result",
          "data": {
            "text/plain": [
              "age           int64\n",
              "sex           int64\n",
              "cp            int64\n",
              "trestbps    float64\n",
              "chol        float64\n",
              "fbs         float64\n",
              "restecg       int64\n",
              "thalach     float64\n",
              "exang       float64\n",
              "oldpeak     float64\n",
              "slope       float64\n",
              "ca          float64\n",
              "thal        float64\n",
              "num           int64\n",
              "dtype: object"
            ]
          },
          "metadata": {},
          "execution_count": 20
        }
      ]
    },
    {
      "cell_type": "markdown",
      "source": [
        "##### 2. Cleveland dataset\n"
      ],
      "metadata": {
        "id": "XchDi5n92pum"
      }
    },
    {
      "cell_type": "code",
      "source": [
        "cleveland_df.dtypes"
      ],
      "metadata": {
        "colab": {
          "base_uri": "https://localhost:8080/"
        },
        "id": "hj5BqKJa4O5J",
        "outputId": "aeb1661b-80a2-49b9-997e-6319fe55001c"
      },
      "execution_count": null,
      "outputs": [
        {
          "output_type": "execute_result",
          "data": {
            "text/plain": [
              "age           int64\n",
              "sex           int64\n",
              "cp            int64\n",
              "trestbps      int64\n",
              "chol          int64\n",
              "fbs           int64\n",
              "restecg       int64\n",
              "thalach       int64\n",
              "exang         int64\n",
              "oldpeak     float64\n",
              "slope         int64\n",
              "ca          float64\n",
              "thal        float64\n",
              "num           int64\n",
              "dtype: object"
            ]
          },
          "metadata": {},
          "execution_count": 21
        }
      ]
    },
    {
      "cell_type": "markdown",
      "source": [
        "##### 3. Hungary dataset\n"
      ],
      "metadata": {
        "id": "9YzqIASu25LO"
      }
    },
    {
      "cell_type": "code",
      "source": [
        "hungary_df.dtypes"
      ],
      "metadata": {
        "colab": {
          "base_uri": "https://localhost:8080/"
        },
        "id": "0Rlp-VNR4VO6",
        "outputId": "38785192-b1fc-4932-fc29-ef7adf0a2195"
      },
      "execution_count": null,
      "outputs": [
        {
          "output_type": "execute_result",
          "data": {
            "text/plain": [
              "age           int64\n",
              "sex           int64\n",
              "cp            int64\n",
              "trestbps    float64\n",
              "chol        float64\n",
              "fbs         float64\n",
              "restecg     float64\n",
              "thalach     float64\n",
              "exang       float64\n",
              "oldpeak     float64\n",
              "slope       float64\n",
              "ca          float64\n",
              "thal        float64\n",
              "num           int64\n",
              "dtype: object"
            ]
          },
          "metadata": {},
          "execution_count": 22
        }
      ]
    },
    {
      "cell_type": "markdown",
      "source": [
        "##### 4. Switzerland dataset\n"
      ],
      "metadata": {
        "id": "VhXUf4XW2-TM"
      }
    },
    {
      "cell_type": "code",
      "source": [
        "switzerland_df.dtypes"
      ],
      "metadata": {
        "colab": {
          "base_uri": "https://localhost:8080/"
        },
        "id": "PRLbV_nB4HqO",
        "outputId": "508cfa19-e0b9-4c25-f810-afca615c7127"
      },
      "execution_count": null,
      "outputs": [
        {
          "output_type": "execute_result",
          "data": {
            "text/plain": [
              "age           int64\n",
              "sex           int64\n",
              "cp            int64\n",
              "trestbps    float64\n",
              "chol          int64\n",
              "fbs         float64\n",
              "restecg     float64\n",
              "thalach     float64\n",
              "exang       float64\n",
              "oldpeak     float64\n",
              "slope       float64\n",
              "ca          float64\n",
              "thal        float64\n",
              "num           int64\n",
              "dtype: object"
            ]
          },
          "metadata": {},
          "execution_count": 23
        }
      ]
    },
    {
      "cell_type": "markdown",
      "source": [
        "### 3. Preparing the data so we can import it easily in the database that we will create later"
      ],
      "metadata": {
        "id": "6duaLtQeiXsa"
      }
    },
    {
      "cell_type": "markdown",
      "source": [
        "Add a new column to each data frame (california_df, cleveland_df, hungary_df, and switzerland_df). The column represents region code where California will be assigned to 1, Cleveland 2, Hungary 3, and Switzerland 4."
      ],
      "metadata": {
        "id": "Bq_obkJFZ_Q5"
      }
    },
    {
      "cell_type": "code",
      "source": [
        "california_df['region_code'] = 1\n",
        "cleveland_df['region_code'] = 2\n",
        "hungary_df['region_code'] = 3\n",
        "switzerland_df['region_code'] = 4"
      ],
      "metadata": {
        "id": "pWfMYpKzOEVJ"
      },
      "execution_count": null,
      "outputs": []
    },
    {
      "cell_type": "markdown",
      "source": [
        "Merge all the data frames in one dataframe"
      ],
      "metadata": {
        "id": "Vhz7SWJTdKvS"
      }
    },
    {
      "cell_type": "code",
      "source": [
        "all_frames = [california_df, cleveland_df, hungary_df, switzerland_df]\n",
        "all_data = pd.concat(all_frames, ignore_index=True)"
      ],
      "metadata": {
        "id": "RaOdGxFZRwWl"
      },
      "execution_count": null,
      "outputs": []
    },
    {
      "cell_type": "markdown",
      "source": [
        "Breakdown the dataframe above `all_data` to 2 dataframes:\n",
        "\n",
        "*   dataframe named `patients`\n",
        "*   dataframe named `test_results`"
      ],
      "metadata": {
        "id": "DuLdx7JHfmuV"
      }
    },
    {
      "cell_type": "code",
      "source": [
        "patients = all_data.filter(['index', 'region_code', 'sex', 'age', 'num'])\n",
        "test_results = all_data.filter(['index', 'cp', 'trestbps', 'chol', 'fbs', 'restecg', 'thalach', 'exang', 'oldpeak', 'slope', 'ca', 'thal'])\n",
        "#test_results.fillna('NULL', inplace=True)"
      ],
      "metadata": {
        "id": "4eEwC2x1Wu_8"
      },
      "execution_count": 134,
      "outputs": []
    },
    {
      "cell_type": "markdown",
      "source": [
        "Also, create dataframe named `regions` that has 2 column: ID and region."
      ],
      "metadata": {
        "id": "HraBD-aVZSZM"
      }
    },
    {
      "cell_type": "code",
      "source": [
        "regions = pd.DataFrame(\n",
        "    {\n",
        "        \"ID\": [1, 2, 3, 4],\n",
        "        \"region\": [\"California\", \"Cleveland\", \"Hungary\", \"Switzerland\"],\n",
        "    },\n",
        "    index=[0, 1, 2, 3],\n",
        ")\n"
      ],
      "metadata": {
        "id": "syxLFm9GZpVM"
      },
      "execution_count": null,
      "outputs": []
    },
    {
      "cell_type": "markdown",
      "source": [
        "Now we have three data frames: \n",
        "\n",
        "*   patients\n",
        "*   test_results\n",
        "*   regions\n",
        "\n",
        "Later, we will import these data frames to the relation tables (as shown in step 7).\n",
        "\n"
      ],
      "metadata": {
        "id": "HPjRXFWtgtuN"
      }
    },
    {
      "cell_type": "markdown",
      "source": [
        "### 6.  Set up the database by using `import sqlite3` then create and open a database called `lab_data`"
      ],
      "metadata": {
        "id": "gWBTi3pRakm6"
      }
    },
    {
      "cell_type": "code",
      "source": [
        "import sqlite3\n",
        "conn = sqlite3.connect('lab_data.db')\n",
        "print (\"Created and opened the database successfully\")"
      ],
      "metadata": {
        "colab": {
          "base_uri": "https://localhost:8080/"
        },
        "id": "2qn3-d4EkZMc",
        "outputId": "ce50ece1-6db0-4918-ffb3-252b527e6028"
      },
      "execution_count": 156,
      "outputs": [
        {
          "output_type": "stream",
          "name": "stdout",
          "text": [
            "Created and opened the database successfully\n"
          ]
        }
      ]
    },
    {
      "cell_type": "markdown",
      "source": [
        "### 7. Create three tables similer to the ER diagram below.\n",
        "\n",
        "![ER_diagram.PNG](data:image/png;base64,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)"
      ],
      "metadata": {
        "id": "mPFkAHQAdnSy"
      }
    },
    {
      "cell_type": "code",
      "source": [
        "conn.execute('''CREATE TABLE regions (\n",
        "  ID INT PRIMARY KEY NOT NULL, \n",
        "  region TEXT NOT NULL)\n",
        "  ''')\n",
        "print (\"The table 'regions' created successfully\")\n",
        "\n"
      ],
      "metadata": {
        "colab": {
          "base_uri": "https://localhost:8080/"
        },
        "id": "SYKna258mLAC",
        "outputId": "1e444cc4-c183-4387-9c2e-f2f097216c2e"
      },
      "execution_count": 157,
      "outputs": [
        {
          "output_type": "stream",
          "name": "stdout",
          "text": [
            "The table 'regions' created successfully\n"
          ]
        }
      ]
    },
    {
      "cell_type": "code",
      "source": [
        "conn.execute('''CREATE TABLE patients (\n",
        "  ID INT PRIMARY KEY NOT NULL, \n",
        "  region_code INT NOT NULL, \n",
        "  sex INT, \n",
        "  age INT, \n",
        "  diagnosis INT, \n",
        "  FOREIGN KEY(region_code) REFERENCES regions(ID))\n",
        "  ''')\n",
        "\n",
        "print (\"The table 'patients' created successfully\")"
      ],
      "metadata": {
        "colab": {
          "base_uri": "https://localhost:8080/"
        },
        "id": "IjSi8p-msaT7",
        "outputId": "dd353c85-32da-40ca-c749-439999ef0fee"
      },
      "execution_count": 158,
      "outputs": [
        {
          "output_type": "stream",
          "name": "stdout",
          "text": [
            "The table 'patients' created successfully\n"
          ]
        }
      ]
    },
    {
      "cell_type": "code",
      "source": [
        "conn.execute('''CREATE TABLE test_results (\n",
        "  result_ID INT PRIMARY KEY NOT NULL,\n",
        "  patient_ID INT NOT NULL, \n",
        "  cp INT, \n",
        "  trestbps INT, \n",
        "  chol INT, \n",
        "  fbs INT,\n",
        "  restecg INT,\n",
        "  thalach INT,\n",
        "  exang INT,\n",
        "  oldpeak REAL,\n",
        "  slope INT,\n",
        "  ca INT,\n",
        "  thal INT,\n",
        "  FOREIGN KEY(patient_ID) REFERENCES patients(ID))\n",
        "  ''')\n",
        "\n",
        "print (\"The table 'test_results' created successfully\")"
      ],
      "metadata": {
        "colab": {
          "base_uri": "https://localhost:8080/"
        },
        "id": "hmOBuL8lur9_",
        "outputId": "2a34e08c-0760-4691-f942-5e690d4dfc0f"
      },
      "execution_count": 159,
      "outputs": [
        {
          "output_type": "stream",
          "name": "stdout",
          "text": [
            "The table 'test_results' created successfully\n"
          ]
        }
      ]
    },
    {
      "cell_type": "markdown",
      "source": [
        "### 8. import the data frames (patients, test_results and regions) to the database."
      ],
      "metadata": {
        "id": "EG4xVJDhbKPk"
      }
    },
    {
      "cell_type": "code",
      "source": [
        "for row in regions.itertuples():\n",
        "  conn.execute(f\"INSERT INTO regions (ID, region) VALUES \\\n",
        "  ({row[1]}, '{row[2]}')\")\n",
        "\n",
        "\n",
        "for row in patients.itertuples():\n",
        "  conn.execute(f\"INSERT INTO patients (ID, region_code, sex, age, diagnosis) VALUES \\\n",
        "   ({row[0]}, {row[1]}, {row[2]}, {row[3]}, {row[4]})\")\n",
        "  \n",
        "\n",
        "for row in test_results.itertuples():  \n",
        "  conn.execute(f\"INSERT INTO test_results (result_ID, patient_ID, cp, trestbps, chol, \\\n",
        "  fbs, restecg, thalach, exang, oldpeak, slope, ca, thal) VALUES ({row[0]},{row[0]}, {row[1]}, '{row[2]}', '{row[3]}', '{row[4]}', '{row[5]}', '{row[6]}', '{row[7]}', '{row[8]}', '{row[9]}', '{row[10]}', '{row[11]}')\")\n",
        "\n"
      ],
      "metadata": {
        "id": "Q3WsTtW4z3kv"
      },
      "execution_count": 160,
      "outputs": []
    },
    {
      "cell_type": "markdown",
      "source": [
        "### 9. convert NaN to Null"
      ],
      "metadata": {
        "id": "al2K42kXW1gT"
      }
    },
    {
      "cell_type": "code",
      "source": [
        "conn.execute('''UPDATE test_results SET thal = NULL WHERE thal LIKE 'nan';''')\n",
        "conn.execute('''UPDATE test_results SET ca = NULL WHERE ca LIKE 'nan';''')\n",
        "conn.execute('''UPDATE test_results SET slope = NULL WHERE slope LIKE 'nan';''')\n",
        "conn.execute('''UPDATE test_results SET oldpeak = NULL WHERE oldpeak LIKE 'nan';''')\n",
        "conn.execute('''UPDATE test_results SET exang = NULL WHERE exang LIKE 'nan';''')\n",
        "conn.execute('''UPDATE test_results SET thalach = NULL WHERE thalach LIKE 'nan';''')\n",
        "conn.execute('''UPDATE test_results SET restecg = NULL WHERE restecg LIKE 'nan';''')\n",
        "conn.execute('''UPDATE test_results SET fbs = NULL WHERE fbs LIKE 'nan';''')\n",
        "conn.execute('''UPDATE test_results SET chol = NULL WHERE chol LIKE 'nan';''')\n",
        "conn.execute('''UPDATE test_results SET trestbps = NULL WHERE trestbps LIKE 'nan';''')"
      ],
      "metadata": {
        "colab": {
          "base_uri": "https://localhost:8080/"
        },
        "id": "QeZQHJ33W_CO",
        "outputId": "6b09f307-a9c7-43f0-ecc7-93e114e6955a"
      },
      "execution_count": 164,
      "outputs": [
        {
          "output_type": "execute_result",
          "data": {
            "text/plain": [
              "<sqlite3.Cursor at 0x7f25e661eea0>"
            ]
          },
          "metadata": {},
          "execution_count": 164
        }
      ]
    },
    {
      "cell_type": "code",
      "source": [
        "conn.commit()"
      ],
      "metadata": {
        "id": "DpLwjTIfKwHw"
      },
      "execution_count": 171,
      "outputs": []
    },
    {
      "cell_type": "markdown",
      "source": [
        "### 10. Performing queries in the database"
      ],
      "metadata": {
        "id": "bCo5XHZ_UCmP"
      }
    },
    {
      "cell_type": "code",
      "source": [
        "#conn.execute('''SELECT * FROM test_results;''')\n",
        "\n",
        "sh = conn.execute('''SELECT * FROM test_results WHERE oldpeak > 3.7;''')\n",
        " \n",
        "for row in sh:\n",
        "\tprint(row)"
      ],
      "metadata": {
        "colab": {
          "base_uri": "https://localhost:8080/"
        },
        "id": "5-yyDO9hUYMg",
        "outputId": "fbd4d457-d79f-4bc4-df46-f15a39d46539"
      },
      "execution_count": 170,
      "outputs": [
        {
          "output_type": "stream",
          "name": "stdout",
          "text": [
            "(84, 84, 4, 136, 248, 0, 0, 140, 1, 4.0, 3, None, None)\n",
            "(105, 105, 4, 120, 282, 0, 1, 135, 1, 4.0, 3, None, 6)\n",
            "(121, 121, 4, 150, 258, 1, 1, 130, 1, 4.0, 3, None, None)\n",
            "(143, 143, 4, 134, 273, 0, 0, 102, 1, 4.0, 3, None, None)\n",
            "(291, 291, 4, 160, 164, 0, 2, 145, 0, 6.2, 3, 3, 7)\n",
            "(321, 321, 4, 150, 407, 0, 2, 154, 0, 4.0, 2, 3, 7)\n",
            "(323, 323, 4, 140, 217, 0, 0, 111, 1, 5.6, 3, 0, 7)\n",
            "(326, 326, 4, 200, 288, 1, 2, 133, 1, 4.0, 3, 2, 7)\n",
            "(383, 383, 1, 178, 270, 0, 2, 145, 0, 4.2, 3, 0, 7)\n",
            "(391, 391, 4, 140, 298, 0, 0, 122, 1, 4.2, 2, 3, 7)\n",
            "(411, 411, 1, 120, 231, 0, 0, 182, 1, 3.8, 2, 0, 7)\n",
            "(485, 485, 4, 114, 318, 0, 1, 140, 0, 4.4, 3, 3, 6)\n",
            "(493, 493, 4, 140, 187, 0, 2, 144, 1, 4.0, 1, 2, 7)\n",
            "(767, 767, 4, 160, 246, 0, 1, 82, 1, 4.0, 2, None, None)\n",
            "(789, 789, 4, 140, 231, 0, 1, 140, 1, 5.0, 2, None, None)\n"
          ]
        }
      ]
    },
    {
      "cell_type": "markdown",
      "source": [
        "#**Report Guide**\n",
        "\n",
        "---\n",
        "\n",
        "1. What was the goal? [2 marks]\n",
        "2. How was this addressed? Why was the approach chosen? [4 marks]\n",
        "3. What was the outcome (i.e. final result)? [4 marks]\n",
        "4. Which key programming decisions did you need to make and why (with respect database design, coding)? [5 marks]\n",
        "5. How could the outcome be further improved (e.g. if you were to do it again or if there was more time/resources)? [5 marks] "
      ],
      "metadata": {
        "id": "51mxwU9hz6nm"
      }
    }
  ]
}