{
  "nbformat": 4,
  "nbformat_minor": 0,
  "metadata": {
    "colab": {
      "name": "SQLite3_pro.ipynb",
      "provenance": [],
      "authorship_tag": "ABX9TyOPvNtyzuUffKIDl0B/zBjG",
      "include_colab_link": true
    },
    "kernelspec": {
      "name": "python3",
      "display_name": "Python 3"
    },
    "language_info": {
      "name": "python"
    }
  },
  "cells": [
    {
      "cell_type": "markdown",
      "metadata": {
        "id": "view-in-github",
        "colab_type": "text"
      },
      "source": [
        "<a href=\"https://colab.research.google.com/github/zahraa-m/SQLite3_pro/blob/main/SQLite3_pro.ipynb\" target=\"_parent\"><img src=\"https://colab.research.google.com/assets/colab-badge.svg\" alt=\"Open In Colab\"/></a>"
      ]
    },
    {
      "cell_type": "markdown",
      "source": [
        "#**Introduction**\n",
        "\n",
        "---\n",
        "\n",
        "The goal of the project is to produce a database of heart disease data collected from four different regions using Python SQLite3."
      ],
      "metadata": {
        "id": "vXA-NyeGyapI"
      }
    },
    {
      "cell_type": "markdown",
      "source": [
        "#**Assessment guidance**\n",
        "\n",
        "---\n",
        "\n",
        "1. Can you read the four csv files (and create data frames) in Python? Can you explore the data using skills gained during the group project?\n",
        "2. How do you set up a database in Python? Can you write the data to an SQLite table? Think about how to import the SQLite module in Python.\n",
        "3. Can you create a database (of more than one table)? "
      ],
      "metadata": {
        "id": "H7HtwSGAzHNl"
      }
    },
    {
      "cell_type": "markdown",
      "source": [
        "### 1. Import `pandas` and read the data hosted in GitHub."
      ],
      "metadata": {
        "id": "OlUn3D_oVD2T"
      }
    },
    {
      "cell_type": "code",
      "source": [
        "import pandas as pd\n",
        "california_df= pd.read_csv('https://raw.githubusercontent.com/zahraa-m/Hello-World/master/Data/california.heart.csv')\n",
        "cleveland_df= pd.read_csv('https://raw.githubusercontent.com/zahraa-m/Hello-World/master/Data/cleveland.heart.csv')\n",
        "hungary_df= pd.read_csv('https://raw.githubusercontent.com/zahraa-m/Hello-World/master/Data/hungary.heart.csv')\n",
        "switzerland_df= pd.read_csv('https://raw.githubusercontent.com/zahraa-m/Hello-World/master/Data/switzerland.heart.csv')"
      ],
      "metadata": {
        "id": "3QOQVAaQVodn"
      },
      "execution_count": 4,
      "outputs": []
    },
    {
      "cell_type": "markdown",
      "source": [
        "#**Report Guide**\n",
        "\n",
        "---\n",
        "\n",
        "1. What was the goal? [2 marks]\n",
        "2. How was this addressed? Why was the approach chosen? [4 marks]\n",
        "3. What was the outcome (i.e. final result)? [4 marks]\n",
        "4. Which key programming decisions did you need to make and why (with respect database design, coding)? [5 marks]\n",
        "5. How could the outcome be further improved (e.g. if you were to do it again or if there was more time/resources)? [5 marks] "
      ],
      "metadata": {
        "id": "51mxwU9hz6nm"
      }
    }
  ]
}